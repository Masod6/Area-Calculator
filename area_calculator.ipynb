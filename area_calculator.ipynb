{
 "cells": [
  {
   "cell_type": "markdown",
   "metadata": {},
   "source": [
    "***Area Calculator***"
   ]
  },
  {
   "cell_type": "code",
   "execution_count": 13,
   "metadata": {},
   "outputs": [
    {
     "name": "stdout",
     "output_type": "stream",
     "text": [
      "Press 1 to get area of square\n",
      "     Press 2 to get area of rectangle\n",
      "      Press 3 to get area of circle\n",
      "      Press 4 to get area of triangle \n",
      "area of triangle 40.5\n"
     ]
    }
   ],
   "source": [
    "print(\"\"\"Press 1 to get area of square\n",
    "     Press 2 to get area of rectangle\n",
    "      Press 3 to get area of circle\n",
    "      Press 4 to get area of triangle \"\"\")\n",
    "\n",
    "option=int(input(\"enter the above number (1-4)\"))\n",
    "\n",
    "if option == 1:\n",
    "            sidelenth=float(input(\"enter the lenth of one side:\"))\n",
    "            area=sidelenth**2\n",
    "            print(\"area of square is\",area)\n",
    "elif option==2:\n",
    "            lenth=float(input(\"enter the lenth of rectangle:\"))\n",
    "            width=float(input(\"enter the width of rectangle,\"))\n",
    "            area=lenth*width\n",
    "            print(\"area of rectangle is\",area)\n",
    "elif option==3:\n",
    " redios=float(input(\"enter the redios of circle:\"))\n",
    " area=(3.14)*redios**2\n",
    " print(\"area of circle is\",area)\n",
    "elif option==4:\n",
    " base=float(input(\"enter the base of triangle:\"))\n",
    " hieght=float(input(\"enter the hieght of triangle:\"))\n",
    " area=0.5+base*hieght\n",
    " print(\"area of triangle\",area)"
   ]
  }
 ],
 "metadata": {
  "kernelspec": {
   "display_name": "python_eda",
   "language": "python",
   "name": "python3"
  },
  "language_info": {
   "codemirror_mode": {
    "name": "ipython",
    "version": 3
   },
   "file_extension": ".py",
   "mimetype": "text/x-python",
   "name": "python",
   "nbconvert_exporter": "python",
   "pygments_lexer": "ipython3",
   "version": "3.13.0"
  }
 },
 "nbformat": 4,
 "nbformat_minor": 2
}
